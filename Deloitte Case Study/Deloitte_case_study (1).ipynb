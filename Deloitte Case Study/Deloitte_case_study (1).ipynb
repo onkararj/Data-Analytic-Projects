{
  "nbformat": 4,
  "nbformat_minor": 0,
  "metadata": {
    "colab": {
      "provenance": []
    },
    "kernelspec": {
      "name": "python3",
      "display_name": "Python 3"
    },
    "language_info": {
      "name": "python"
    }
  },
  "cells": [
    {
      "cell_type": "code",
      "source": [
        "import pandas as pd\n",
        "import numpy as np\n",
        "import calendar"
      ],
      "metadata": {
        "id": "7s4Hi0DnIkWW"
      },
      "execution_count": 2,
      "outputs": []
    },
    {
      "cell_type": "code",
      "source": [
        "input_file = '/content/drive/MyDrive/Deloitte Case Study/Exchange rate.xlsx'\n",
        "output_file = '/content/drive/MyDrive/Deloitte Case Study/Exchange rate 1.xlsx'\n",
        "\n",
        "# Read the data from the Excel file\n",
        "df = pd.read_excel(input_file)\n",
        "\n",
        "# Extract year, month, and quarter from the 'date' column\n",
        "df['year'] = df['Date'].str.extract(r'(\\d{4})')\n",
        "df['month'] = df['Date'].str.extract(r'M(\\d{2})').astype(int)\n",
        "df['quarter'] = df['month'].apply(lambda m: (m-1) // 3 + 1)\n",
        "\n",
        "# Save the modified data back to a new Excel file\n",
        "df.to_excel(output_file, index=False, engine='openpyxl')\n",
        "\n",
        "print(\"Data has been separated and saved to '{}'.\".format(output_file))\n"
      ],
      "metadata": {
        "colab": {
          "base_uri": "https://localhost:8080/"
        },
        "id": "OKbZLklgLwpn",
        "outputId": "d6e4a90d-ea06-45e9-caa3-d0e0a1e12a36"
      },
      "execution_count": 4,
      "outputs": [
        {
          "output_type": "stream",
          "name": "stdout",
          "text": [
            "Data has been separated and saved to '/content/drive/MyDrive/Deloitte Case Study/Exchange rate 1.xlsx'.\n"
          ]
        }
      ]
    },
    {
      "cell_type": "code",
      "source": [
        "# Read the Excel file\n",
        "df = pd.read_excel('/content/drive/MyDrive/Deloitte Case Study/Exchange rate 1.xlsx')\n",
        "\n",
        "# Get the country columns (excluding the first three columns)\n",
        "country_columns = df.columns[3:]\n",
        "\n",
        "# Reshape the DataFrame to have 'Country' as a column and other columns as values\n",
        "df = df.melt(id_vars=['year', 'quarter', 'month'], value_vars=country_columns, var_name='Country', value_name='Data')\n",
        "\n",
        "# Convert the file format to CSV and save it\n",
        "df.to_csv('/content/drive/MyDrive/Deloitte Case Study/Exchange rate new.csv', index=False)"
      ],
      "metadata": {
        "id": "FzMkjuf-MffA"
      },
      "execution_count": 5,
      "outputs": []
    },
    {
      "cell_type": "code",
      "source": [],
      "metadata": {
        "id": "QN2FT0tUNj7Y"
      },
      "execution_count": null,
      "outputs": []
    }
  ]
}